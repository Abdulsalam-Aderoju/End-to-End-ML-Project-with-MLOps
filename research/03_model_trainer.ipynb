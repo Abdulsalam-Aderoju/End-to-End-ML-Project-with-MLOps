{
 "cells": [
  {
   "cell_type": "code",
   "execution_count": 1,
   "metadata": {},
   "outputs": [
    {
     "data": {
      "text/plain": [
       "'c:\\\\Users\\\\HP\\\\Cancer Detection'"
      ]
     },
     "execution_count": 1,
     "metadata": {},
     "output_type": "execute_result"
    }
   ],
   "source": [
    "import os\n",
    "\n",
    "os.chdir(\"../\")\n",
    "%pwd"
   ]
  },
  {
   "cell_type": "markdown",
   "metadata": {},
   "source": [
    "## Entity"
   ]
  },
  {
   "cell_type": "code",
   "execution_count": 2,
   "metadata": {},
   "outputs": [],
   "source": [
    "from dataclasses import dataclass\n",
    "from pathlib import Path\n",
    "\n",
    "@dataclass(frozen= True)\n",
    "class TrainingConfig:\n",
    "    root_dir: Path\n",
    "    trained_model_path: Path\n",
    "    updated_base_model_path: Path\n",
    "    training_data: Path\n",
    "    params_epoch: int\n",
    "    params_batch_size: int\n",
    "    params_is_augmentation: bool\n",
    "    params_image_size: list\n"
   ]
  },
  {
   "cell_type": "markdown",
   "metadata": {},
   "source": [
    "## Configuration Manager"
   ]
  },
  {
   "cell_type": "code",
   "execution_count": null,
   "metadata": {},
   "outputs": [],
   "source": []
  },
  {
   "cell_type": "code",
   "execution_count": 4,
   "metadata": {},
   "outputs": [],
   "source": [
    "from src.cnnClassifier.utils.common import read_yaml, create_directories\n",
    "from src.cnnClassifier.constants import *\n",
    "import tensorflow as tf\n",
    "\n",
    "class ConfigurationManager:\n",
    "    def __init__(self, config_filepath = CONFIG_FILE_PATH, param_filepath = PARAMS_FILE_PATH):\n",
    "        self.config = read_yaml(config_filepath)\n",
    "        self.params = read_yaml(param_filepath)\n",
    "\n",
    "        create_directories([self.config.artifacts_root])\n",
    "\n",
    "\n",
    "    def get_training_config(self) -> TrainingConfig:\n",
    "        training = self.config.training\n",
    "        prepare_base_model = self.config.prepare_base_model\n",
    "        params = self.params\n",
    "        training_data = os.path.join(self.config.data_ingestion.unzip_dir, \"Chest-CT-Scan-data\")\n",
    "\n",
    "        create_directories([training.root_dir])\n",
    "        \n",
    "\n",
    "        training_config = TrainingConfig(\n",
    "            root_dir = Path(training.root_dir),\n",
    "            trained_model_path = Path(training.trained_model_path),\n",
    "            updated_base_model_path = Path(prepare_base_model.updated_base_model_path),\n",
    "            training_data = Path(training_data),\n",
    "            params_epoch = params.EPOCH,\n",
    "            params_batch_size = params.BATCH_SIZE,\n",
    "            params_is_augmentation = params.AUGMENTATION,\n",
    "            params_image_size = params.IMAGE_SIZE\n",
    "        )\n",
    "\n",
    "        return training_config\n"
   ]
  },
  {
   "cell_type": "code",
   "execution_count": null,
   "metadata": {},
   "outputs": [],
   "source": []
  },
  {
   "cell_type": "markdown",
   "metadata": {},
   "source": [
    "## Components"
   ]
  },
  {
   "cell_type": "code",
   "execution_count": 5,
   "metadata": {},
   "outputs": [],
   "source": [
    "class Training:\n",
    "    def __init__(self, config: TrainingConfig):\n",
    "        self.config = config\n",
    "\n",
    "    \n",
    "    def get_base_model(self):\n",
    "        self.model = tf.keras.models.load_model(\n",
    "            self.config.updated_base_model_path\n",
    "        )\n",
    "\n",
    "    def train_valid_generator(self):\n",
    "\n",
    "        datagenerator_kwargs = dict(\n",
    "            rescale = 1./255,\n",
    "            validation_split=0.20\n",
    "        )\n",
    "\n",
    "        dataflow_kwargs = dict(\n",
    "            target_size=self.config.params_image_size[:-1],\n",
    "            batch_size=self.config.params_batch_size,\n",
    "            interpolation=\"bilinear\"\n",
    "        )\n",
    "\n",
    "        valid_datagenerator = tf.keras.preprocessing.image.ImageDataGenerator(\n",
    "            **datagenerator_kwargs\n",
    "        )\n",
    "\n",
    "        self.valid_generator = valid_datagenerator.flow_from_directory(\n",
    "            directory=self.config.training_data,\n",
    "            subset=\"validation\",\n",
    "            shuffle=False,\n",
    "            **dataflow_kwargs\n",
    "        )\n",
    "\n",
    "        if self.config.params_is_augmentation:\n",
    "            train_datagenerator = tf.keras.preprocessing.image.ImageDataGenerator(\n",
    "                rotation_range=40,\n",
    "                horizontal_flip=True,\n",
    "                width_shift_range=0.2,\n",
    "                height_shift_range=0.2,\n",
    "                shear_range=0.2,\n",
    "                zoom_range=0.2,\n",
    "                **datagenerator_kwargs\n",
    "            )\n",
    "        else:\n",
    "            train_datagenerator = valid_datagenerator\n",
    "\n",
    "        self.train_generator = train_datagenerator.flow_from_directory(\n",
    "            directory=self.config.training_data,\n",
    "            subset=\"training\",\n",
    "            shuffle=True,\n",
    "            **dataflow_kwargs\n",
    "        )\n",
    "\n",
    "    \n",
    "    @staticmethod\n",
    "    def save_model(path: Path, model: tf.keras.Model):\n",
    "        model.save(path)\n",
    "\n",
    "\n",
    "\n",
    "    \n",
    "    def train(self):\n",
    "        self.steps_per_epoch = self.train_generator.samples // self.train_generator.batch_size\n",
    "        self.validation_steps = self.valid_generator.samples // self.valid_generator.batch_size\n",
    "\n",
    "        self.model.fit(\n",
    "            self.train_generator,\n",
    "            epochs=self.config.params_epoch,\n",
    "            steps_per_epoch=self.steps_per_epoch,\n",
    "            validation_steps=self.validation_steps,\n",
    "            validation_data=self.valid_generator\n",
    "        )\n",
    "\n",
    "        self.save_model(\n",
    "            path=self.config.trained_model_path,\n",
    "            model=self.model\n",
    "        )"
   ]
  },
  {
   "cell_type": "markdown",
   "metadata": {},
   "source": [
    "## Pipeline"
   ]
  },
  {
   "cell_type": "code",
   "execution_count": 6,
   "metadata": {},
   "outputs": [
    {
     "name": "stdout",
     "output_type": "stream",
     "text": [
      "[2024-07-17 05:37:24,459: INFO: common: yaml file: config\\config.yaml loaded successfully]\n",
      "[2024-07-17 05:37:24,475: INFO: common: yaml file: params.yaml loaded successfully]\n",
      "[2024-07-17 05:37:24,475: INFO: common: created directory at: artifacts]\n",
      "[2024-07-17 05:37:24,475: INFO: common: created directory at: artifacts/training]\n",
      "Found 68 images belonging to 2 classes.\n",
      "Found 275 images belonging to 2 classes.\n",
      "Epoch 1/16\n",
      "17/17 [==============================] - 57s 3s/step - loss: 14.4635 - accuracy: 0.5135 - val_loss: 1.2572 - val_accuracy: 0.7344\n",
      "Epoch 2/16\n",
      "17/17 [==============================] - 65s 4s/step - loss: 14.5519 - accuracy: 0.5257 - val_loss: 0.0126 - val_accuracy: 0.9844\n",
      "Epoch 3/16\n",
      "17/17 [==============================] - 62s 4s/step - loss: 4.9376 - accuracy: 0.7181 - val_loss: 0.9997 - val_accuracy: 0.8750\n",
      "Epoch 4/16\n",
      "17/17 [==============================] - 63s 4s/step - loss: 3.9321 - accuracy: 0.7452 - val_loss: 6.7117 - val_accuracy: 0.6094\n",
      "Epoch 5/16\n",
      "17/17 [==============================] - 64s 4s/step - loss: 4.3035 - accuracy: 0.7799 - val_loss: 0.1809 - val_accuracy: 0.8750\n",
      "Epoch 6/16\n",
      "17/17 [==============================] - 63s 4s/step - loss: 9.2057 - accuracy: 0.6371 - val_loss: 1.4565 - val_accuracy: 0.8750\n",
      "Epoch 7/16\n",
      "17/17 [==============================] - 62s 4s/step - loss: 5.5371 - accuracy: 0.6795 - val_loss: 0.7488 - val_accuracy: 0.8438\n",
      "Epoch 8/16\n",
      "17/17 [==============================] - 62s 4s/step - loss: 3.3001 - accuracy: 0.8378 - val_loss: 2.0979e-04 - val_accuracy: 1.0000\n",
      "Epoch 9/16\n",
      "17/17 [==============================] - 62s 4s/step - loss: 0.6949 - accuracy: 0.9035 - val_loss: 0.1748 - val_accuracy: 0.9688\n",
      "Epoch 10/16\n",
      "17/17 [==============================] - 63s 4s/step - loss: 2.2154 - accuracy: 0.8340 - val_loss: 2.8718e-04 - val_accuracy: 1.0000\n",
      "Epoch 11/16\n",
      "17/17 [==============================] - 62s 4s/step - loss: 0.5212 - accuracy: 0.9112 - val_loss: 4.0196e-05 - val_accuracy: 1.0000\n",
      "Epoch 12/16\n",
      "17/17 [==============================] - 63s 4s/step - loss: 3.6558 - accuracy: 0.7876 - val_loss: 1.6093e-05 - val_accuracy: 1.0000\n",
      "Epoch 13/16\n",
      "17/17 [==============================] - 62s 4s/step - loss: 0.6791 - accuracy: 0.8919 - val_loss: 0.0405 - val_accuracy: 0.9844\n",
      "Epoch 14/16\n",
      "17/17 [==============================] - 62s 4s/step - loss: 0.7789 - accuracy: 0.9112 - val_loss: 0.8584 - val_accuracy: 0.8750\n",
      "Epoch 15/16\n",
      "17/17 [==============================] - 63s 4s/step - loss: 1.2517 - accuracy: 0.8571 - val_loss: 0.0176 - val_accuracy: 1.0000\n",
      "Epoch 16/16\n",
      "17/17 [==============================] - 63s 4s/step - loss: 1.2376 - accuracy: 0.8880 - val_loss: 4.8179e-05 - val_accuracy: 1.0000\n"
     ]
    },
    {
     "name": "stderr",
     "output_type": "stream",
     "text": [
      "c:\\Users\\HP\\anaconda3\\envs\\myenv\\lib\\site-packages\\keras\\src\\engine\\training.py:3000: UserWarning: You are saving your model as an HDF5 file via `model.save()`. This file format is considered legacy. We recommend using instead the native Keras format, e.g. `model.save('my_model.keras')`.\n",
      "  saving_api.save_model(\n"
     ]
    }
   ],
   "source": [
    "try:\n",
    "    config = ConfigurationManager()\n",
    "    training_config = config.get_training_config()\n",
    "    training = Training(config = training_config)\n",
    "    training.get_base_model()\n",
    "    training.train_valid_generator()\n",
    "    training.train()\n",
    "    \n",
    "except Exception as e:\n",
    "    raise e"
   ]
  },
  {
   "cell_type": "code",
   "execution_count": null,
   "metadata": {},
   "outputs": [],
   "source": []
  },
  {
   "cell_type": "code",
   "execution_count": null,
   "metadata": {},
   "outputs": [],
   "source": []
  },
  {
   "cell_type": "code",
   "execution_count": null,
   "metadata": {},
   "outputs": [],
   "source": []
  }
 ],
 "metadata": {
  "kernelspec": {
   "display_name": "myenv",
   "language": "python",
   "name": "python3"
  },
  "language_info": {
   "codemirror_mode": {
    "name": "ipython",
    "version": 3
   },
   "file_extension": ".py",
   "mimetype": "text/x-python",
   "name": "python",
   "nbconvert_exporter": "python",
   "pygments_lexer": "ipython3",
   "version": "3.8.19"
  }
 },
 "nbformat": 4,
 "nbformat_minor": 2
}
